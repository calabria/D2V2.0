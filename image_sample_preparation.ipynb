{
 "cells": [
  {
   "cell_type": "code",
   "execution_count": null,
   "id": "265ba001",
   "metadata": {},
   "outputs": [],
   "source": [
    "import math\n",
    "import numpy as np\n",
    "import pandas as pd\n",
    "import tensorflow as tf\n",
    "\n",
    "import matplotlib\n",
    "import matplotlib.pyplot as plt\n",
    "import matplotlib.dates as mdates\n",
    "from mpl_toolkits.axes_grid1 import make_axes_locatable\n",
    "\n",
    "from scipy import ndimage, misc\n",
    "import datetime\n",
    "from datetime import timedelta\n",
    "\n",
    "import keras\n",
    "from keras import backend as K\n",
    "from tensorflow.keras import layers\n",
    "from tensorflow.keras import models\n",
    "from tensorflow.keras import utils as np_utils\n",
    "from keras.utils.np_utils import to_categorical\n",
    "\n",
    "from keras.callbacks import EarlyStopping, ModelCheckpoint\n",
    "from keras.models import Sequential, load_model\n",
    "from keras.layers import Dense, Flatten, Reshape, Conv1D, MaxPooling1D, AveragePooling1D,\\\n",
    "UpSampling1D, InputLayer\n",
    "\n",
    "from scipy import ndimage, misc\n",
    "\n",
    "from sklearn import svm\n",
    "from sklearn.ensemble import IsolationForest\n",
    "from sklearn.metrics import accuracy_score, confusion_matrix, roc_curve, auc\n",
    "from sklearn.model_selection import cross_val_score, train_test_split, StratifiedKFold, GridSearchCV\n",
    "from sklearn.preprocessing import MaxAbsScaler\n",
    "import joblib\n",
    "from sklearn.neighbors import LocalOutlierFactor\n",
    "from sklearn import cluster, datasets\n",
    "\n",
    "import random\n",
    "import os\n",
    "import tensorflow as tf\n",
    "import cv2\n",
    "import matplotlib.image as mpimg\n",
    "%matplotlib inline"
   ]
  },
  {
   "cell_type": "code",
   "execution_count": null,
   "id": "d698f86e",
   "metadata": {},
   "outputs": [],
   "source": [
    "root_path = \"/Users/I559573/Downloads/D2V2.0/D2V_Datasets/ImageSamples/lgp_dataset\"\n",
    "path_img_ok = root_path + \"/Images/OK/\"\n",
    "path_img_ko = root_path + \"/Images/NG/\"\n",
    "path_msk_ok = root_path + \"/Masks/OK/\"\n",
    "path_msk_ko = root_path + \"/Masks/NG/\"\n",
    "print(path_img_ok)\n",
    "print(path_img_ko)\n",
    "print(path_msk_ok)\n",
    "print(path_msk_ko)"
   ]
  },
  {
   "cell_type": "code",
   "execution_count": null,
   "id": "8bf53aad",
   "metadata": {
    "scrolled": true
   },
   "outputs": [],
   "source": [
    "def print_random_images(img_folder):\n",
    "    for i in range(5):\n",
    "        lst = os.listdir(img_folder)\n",
    "        lst.sort()\n",
    "        file = lst[i]\n",
    "        image_path = os.path.join(img_folder, file)\n",
    "        img = mpimg.imread(image_path)\n",
    "        ax = plt.subplot(1, 5, i+1)\n",
    "        ax.title.set_text(file)\n",
    "        plt.imshow(img)"
   ]
  },
  {
   "cell_type": "code",
   "execution_count": null,
   "id": "fb84c2b5",
   "metadata": {},
   "outputs": [],
   "source": [
    "plt.figure(figsize = (20, 20))\n",
    "print_random_images(path_img_ok)"
   ]
  },
  {
   "cell_type": "code",
   "execution_count": null,
   "id": "adb66bfd",
   "metadata": {},
   "outputs": [],
   "source": [
    "plt.figure(figsize = (20, 20))\n",
    "print_random_images(path_img_ko)"
   ]
  },
  {
   "cell_type": "code",
   "execution_count": null,
   "id": "0fb455a0",
   "metadata": {},
   "outputs": [],
   "source": [
    "plt.figure(figsize = (20, 20))\n",
    "print_random_images(path_msk_ko)"
   ]
  },
  {
   "cell_type": "code",
   "execution_count": null,
   "id": "9292edb3",
   "metadata": {},
   "outputs": [],
   "source": [
    "img_dataset_ok = []\n",
    "img_dataset_ko = []\n",
    "msk_dataset_ok = []\n",
    "msk_dataset_ko = []"
   ]
  },
  {
   "cell_type": "code",
   "execution_count": null,
   "id": "02ee9f2e",
   "metadata": {},
   "outputs": [],
   "source": [
    "IMG_WIDTH=224\n",
    "IMG_HEIGHT=224\n",
    "\n",
    "def create_dataset(img_folder):\n",
    "    img_data_array = []\n",
    "    for file in os.listdir(img_folder):\n",
    "            image_path = os.path.join(img_folder, file)\n",
    "            image = cv2.imread(image_path, cv2.IMREAD_COLOR)\n",
    "            image = cv2.resize(image, (IMG_HEIGHT, IMG_WIDTH),interpolation = cv2.INTER_AREA)\n",
    "            image = np.array(image)\n",
    "            image = image.astype('float32')\n",
    "            image /= 255\n",
    "            img_data_array.append(image)\n",
    "    return img_data_array\n",
    "\n",
    "def create_dataset_bin(img_folder):\n",
    "    img_data_array = []\n",
    "    for file in os.listdir(img_folder):\n",
    "            image_path = os.path.join(img_folder, file)\n",
    "            image = cv2.imread(image_path, cv2.IMREAD_COLOR)\n",
    "            image = cv2.resize(image, (IMG_HEIGHT, IMG_WIDTH),interpolation = cv2.INTER_AREA)\n",
    "            image = np.array(image)\n",
    "            image = image.astype('float32')\n",
    "            image /= 255\n",
    "            image = image.tobytes()\n",
    "            img_data_array.append(image)\n",
    "    return img_data_array"
   ]
  },
  {
   "cell_type": "code",
   "execution_count": null,
   "id": "f21c5483",
   "metadata": {},
   "outputs": [],
   "source": [
    "# extract the image array and class name\n",
    "img_dataset_ok = create_dataset(path_img_ok)\n",
    "img_dataset_ko = create_dataset(path_img_ko)\n",
    "msk_dataset_ok = create_dataset(path_msk_ok)\n",
    "msk_dataset_ko = create_dataset(path_msk_ko)\n",
    "\n",
    "img_dataset_ok_bin = create_dataset_bin(path_img_ok)\n",
    "img_dataset_ko_bin = create_dataset_bin(path_img_ko)\n",
    "msk_dataset_ok_bin = create_dataset_bin(path_msk_ok)\n",
    "msk_dataset_ko_bin = create_dataset_bin(path_msk_ko)"
   ]
  },
  {
   "cell_type": "code",
   "execution_count": null,
   "id": "d9b1d006",
   "metadata": {},
   "outputs": [],
   "source": [
    "print(len(img_dataset_ok))\n",
    "print(len(img_dataset_ko))\n",
    "print(len(msk_dataset_ok))\n",
    "print(len(msk_dataset_ko))\n",
    "\n",
    "print(len(img_dataset_ok_bin))\n",
    "print(len(img_dataset_ko_bin))\n",
    "print(len(msk_dataset_ok_bin))\n",
    "print(len(msk_dataset_ko_bin))"
   ]
  },
  {
   "cell_type": "code",
   "execution_count": null,
   "id": "e08f00d6",
   "metadata": {},
   "outputs": [],
   "source": [
    "plt.figure(figsize = (5, 5))\n",
    "plt.imshow(img_dataset_ko[0], interpolation='nearest')"
   ]
  },
  {
   "cell_type": "code",
   "execution_count": null,
   "id": "00e91a4e",
   "metadata": {},
   "outputs": [],
   "source": [
    "plt.figure(figsize = (5, 5))\n",
    "img = np.frombuffer(img_dataset_ko_bin[0], dtype=np.float32)\n",
    "img = np.reshape(img, (224,224,3))\n",
    "plt.imshow(img, interpolation='nearest')"
   ]
  },
  {
   "cell_type": "code",
   "execution_count": null,
   "id": "a69e0372",
   "metadata": {},
   "outputs": [],
   "source": [
    "df_img_dataset_ok = pd.DataFrame(columns = ['image','label'])\n",
    "df_img_dataset_ok['image'] = img_dataset_ok_bin\n",
    "df_img_dataset_ok['label'] = 0\n",
    "#df_img_dataset_ok"
   ]
  },
  {
   "cell_type": "code",
   "execution_count": null,
   "id": "8c9280d9",
   "metadata": {},
   "outputs": [],
   "source": [
    "df_img_dataset_ko = pd.DataFrame(columns = ['image','label'])\n",
    "df_img_dataset_ko['image'] = img_dataset_ko_bin\n",
    "df_img_dataset_ko['label'] = 1\n",
    "#df_img_dataset_ko"
   ]
  },
  {
   "cell_type": "code",
   "execution_count": null,
   "id": "d9a477eb",
   "metadata": {},
   "outputs": [],
   "source": [
    "df_msk_dataset_ok = pd.DataFrame(columns = ['image','label'])\n",
    "df_msk_dataset_ok['image'] = msk_dataset_ok_bin\n",
    "df_msk_dataset_ok['label'] = 0\n",
    "#df_msk_dataset_ok"
   ]
  },
  {
   "cell_type": "code",
   "execution_count": null,
   "id": "49ac3ca9",
   "metadata": {},
   "outputs": [],
   "source": [
    "df_msk_dataset_ko = pd.DataFrame(columns = ['image','label'])\n",
    "df_msk_dataset_ko['image'] = msk_dataset_ko_bin\n",
    "df_msk_dataset_ko['label'] = 1\n",
    "#df_msk_dataset_ok"
   ]
  },
  {
   "cell_type": "code",
   "execution_count": null,
   "id": "4d2f12bf",
   "metadata": {},
   "outputs": [],
   "source": [
    "df_img_dataset_tot = pd.concat([df_img_dataset_ok,df_img_dataset_ko], ignore_index=True)\n",
    "df_msk_dataset_tot = pd.concat([df_msk_dataset_ok,df_msk_dataset_ko], ignore_index=True)"
   ]
  },
  {
   "cell_type": "code",
   "execution_count": null,
   "id": "07c10e87",
   "metadata": {},
   "outputs": [],
   "source": [
    "#df_img_dataset_tot"
   ]
  },
  {
   "cell_type": "code",
   "execution_count": null,
   "id": "b55fb8ac",
   "metadata": {},
   "outputs": [],
   "source": [
    "#df_msk_dataset_tot"
   ]
  },
  {
   "cell_type": "code",
   "execution_count": null,
   "id": "b9d718a6",
   "metadata": {},
   "outputs": [],
   "source": [
    "df_img_dataset_tot = df_img_dataset_tot.sample(frac=1).reset_index(drop=True)\n",
    "df_msk_dataset_tot = df_msk_dataset_tot.sample(frac=1).reset_index(drop=True)"
   ]
  },
  {
   "cell_type": "code",
   "execution_count": null,
   "id": "78c0def9",
   "metadata": {},
   "outputs": [],
   "source": [
    "#df_img_dataset_tot"
   ]
  },
  {
   "cell_type": "code",
   "execution_count": null,
   "id": "8083c0d1",
   "metadata": {},
   "outputs": [],
   "source": [
    "#df_msk_dataset_tot"
   ]
  },
  {
   "cell_type": "code",
   "execution_count": null,
   "id": "e151e5a4",
   "metadata": {},
   "outputs": [],
   "source": [
    "df_img_dataset_train, df_img_dataset_test = train_test_split(df_img_dataset_tot, test_size=0.97, random_state=25)"
   ]
  },
  {
   "cell_type": "code",
   "execution_count": null,
   "id": "3d22fe60",
   "metadata": {},
   "outputs": [],
   "source": [
    "df_img_dataset_val, df_img_dataset_test = train_test_split(df_img_dataset_test, test_size=0.97, random_state=25)"
   ]
  },
  {
   "cell_type": "code",
   "execution_count": null,
   "id": "29b22a4d",
   "metadata": {},
   "outputs": [],
   "source": [
    "df_img_dataset_train.groupby(\"label\")['image'].count()"
   ]
  },
  {
   "cell_type": "code",
   "execution_count": null,
   "id": "d41f043a",
   "metadata": {},
   "outputs": [],
   "source": [
    "df_img_dataset_test.groupby(\"label\")['image'].count()"
   ]
  },
  {
   "cell_type": "code",
   "execution_count": null,
   "id": "ade327b2",
   "metadata": {},
   "outputs": [],
   "source": [
    "print(f\"No. of training examples: {df_img_dataset_train.shape[0]}\")\n",
    "print(f\"No. of testing examples: {df_img_dataset_test.shape[0]}\")\n",
    "print(f\"No. of validation examples: {df_img_dataset_val.shape[0]}\")"
   ]
  },
  {
   "cell_type": "code",
   "execution_count": null,
   "id": "be2448ba",
   "metadata": {},
   "outputs": [],
   "source": [
    "model = models.Sequential()\n",
    "model.add(layers.Conv2D(6, 5, activation='tanh', input_shape=(224,224,1)))\n",
    "model.add(layers.AveragePooling2D(2))\n",
    "model.add(layers.Activation('sigmoid'))\n",
    "model.add(layers.Conv2D(16, 5, activation='tanh'))\n",
    "model.add(layers.AveragePooling2D(2))\n",
    "model.add(layers.Activation('sigmoid'))\n",
    "model.add(layers.Conv2D(120, 5, activation='tanh'))\n",
    "model.add(layers.Flatten())\n",
    "model.add(layers.Dense(84, activation='tanh'))\n",
    "model.add(layers.Dense(10, activation='softmax'))"
   ]
  },
  {
   "cell_type": "code",
   "execution_count": null,
   "id": "929bb233",
   "metadata": {},
   "outputs": [],
   "source": [
    "model.summary()"
   ]
  },
  {
   "cell_type": "code",
   "execution_count": 302,
   "id": "ddcd8356",
   "metadata": {},
   "outputs": [],
   "source": [
    "#model.compile(loss=keras.losses.sparse_categorical_crossentropy,\n",
    "#              optimizer=tf.keras.optimizers.Adam(learning_rate=1e-3), metrics=['accuracy'])\n",
    "\n",
    "vgg16 = tf.keras.applications.vgg16.VGG16(\n",
    "    include_top=True, weights='imagenet', input_tensor=None,\n",
    "    input_shape=None, pooling=None, classes=1000,\n",
    "    classifier_activation='softmax'\n",
    ")\n",
    "\n",
    "vgg16.compile(loss=keras.losses.sparse_categorical_crossentropy,\n",
    "              optimizer=tf.keras.optimizers.Adam(learning_rate=1e-4), metrics=['accuracy'])"
   ]
  },
  {
   "cell_type": "code",
   "execution_count": 296,
   "id": "8ff57022",
   "metadata": {},
   "outputs": [
    {
     "name": "stdout",
     "output_type": "stream",
     "text": [
      "24\n",
      "752\n",
      "23\n",
      "(224, 224, 3)\n",
      "(224, 224, 3)\n",
      "(224, 224, 3)\n"
     ]
    }
   ],
   "source": [
    "def convert_back(df):\n",
    "    temp_arr = []\n",
    "    for i in df['image'].values:\n",
    "        a = np.frombuffer(i, dtype=np.float32)\n",
    "        a = a.reshape(224,224,3)\n",
    "        temp_arr.append(a)\n",
    "        #print(a.shape)\n",
    "    return temp_arr\n",
    "\n",
    "img_train = convert_back(df_img_dataset_train)\n",
    "img_test = convert_back(df_img_dataset_test)\n",
    "img_val = convert_back(df_img_dataset_val)\n",
    "print(len(img_train))\n",
    "print(len(img_test))\n",
    "print(len(img_val))\n",
    "print(img_train[0].shape)\n",
    "print(img_test[0].shape)\n",
    "print(img_val[0].shape)"
   ]
  },
  {
   "cell_type": "code",
   "execution_count": 303,
   "id": "2eac38c3",
   "metadata": {},
   "outputs": [
    {
     "name": "stdout",
     "output_type": "stream",
     "text": [
      "Epoch 1/20\n",
      "1/1 [==============================] - 53s 53s/step - loss: 7.7419 - accuracy: 0.0000e+00 - val_loss: 1.4608 - val_accuracy: 0.6522\n",
      "Epoch 2/20\n",
      "1/1 [==============================] - 33s 33s/step - loss: 1.5282 - accuracy: 0.5000 - val_loss: 1.0038 - val_accuracy: 0.3478\n",
      "Epoch 3/20\n",
      "1/1 [==============================] - 41s 41s/step - loss: 0.7378 - accuracy: 0.5417 - val_loss: 1.4963 - val_accuracy: 0.6087\n",
      "Epoch 4/20\n",
      "1/1 [==============================] - 56s 56s/step - loss: 2.2276 - accuracy: 0.5000 - val_loss: 1.1404 - val_accuracy: 0.3478\n",
      "Epoch 5/20\n",
      "1/1 [==============================] - 48s 48s/step - loss: 0.6940 - accuracy: 0.5417 - val_loss: 1.5065 - val_accuracy: 0.3478\n",
      "Epoch 6/20\n",
      "1/1 [==============================] - 63s 63s/step - loss: 0.8763 - accuracy: 0.5417 - val_loss: 0.9301 - val_accuracy: 0.3478\n",
      "Epoch 7/20\n",
      "1/1 [==============================] - 65s 65s/step - loss: 0.6378 - accuracy: 0.5417 - val_loss: 0.7443 - val_accuracy: 0.6522\n",
      "Epoch 8/20\n",
      "1/1 [==============================] - 47s 47s/step - loss: 0.7679 - accuracy: 0.5417 - val_loss: 0.8431 - val_accuracy: 0.6087\n",
      "Epoch 9/20\n",
      "1/1 [==============================] - 41s 41s/step - loss: 0.6466 - accuracy: 0.5417 - val_loss: 1.2382 - val_accuracy: 0.3478\n",
      "Epoch 10/20\n",
      "1/1 [==============================] - 41s 41s/step - loss: 0.7002 - accuracy: 0.5417 - val_loss: 1.2146 - val_accuracy: 0.3478\n",
      "Epoch 11/20\n",
      "1/1 [==============================] - 46s 46s/step - loss: 0.6511 - accuracy: 0.5417 - val_loss: 1.1437 - val_accuracy: 0.6087\n",
      "Epoch 12/20\n",
      "1/1 [==============================] - 48s 48s/step - loss: 0.6333 - accuracy: 0.5417 - val_loss: 1.1665 - val_accuracy: 0.6087\n",
      "Epoch 13/20\n",
      "1/1 [==============================] - 41s 41s/step - loss: 0.6533 - accuracy: 0.5417 - val_loss: 1.2286 - val_accuracy: 0.6087\n",
      "Epoch 14/20\n",
      "1/1 [==============================] - 45s 45s/step - loss: 0.6382 - accuracy: 0.5417 - val_loss: 1.3329 - val_accuracy: 0.3478\n",
      "Epoch 15/20\n",
      "1/1 [==============================] - 39s 39s/step - loss: 0.6317 - accuracy: 0.5417 - val_loss: 1.4169 - val_accuracy: 0.3478\n",
      "Epoch 16/20\n",
      "1/1 [==============================] - 43s 43s/step - loss: 0.6425 - accuracy: 0.5417 - val_loss: 1.4236 - val_accuracy: 0.3478\n",
      "Epoch 17/20\n",
      "1/1 [==============================] - 38s 38s/step - loss: 0.6311 - accuracy: 0.5417 - val_loss: 1.4149 - val_accuracy: 0.6957\n",
      "Epoch 18/20\n",
      "1/1 [==============================] - 42s 42s/step - loss: 0.6236 - accuracy: 0.6250 - val_loss: 1.4492 - val_accuracy: 0.6087\n",
      "Epoch 19/20\n",
      "1/1 [==============================] - 36s 36s/step - loss: 0.6265 - accuracy: 0.5417 - val_loss: 1.5296 - val_accuracy: 0.6087\n",
      "Epoch 20/20\n",
      "1/1 [==============================] - 64s 64s/step - loss: 0.6162 - accuracy: 0.6667 - val_loss: 1.6599 - val_accuracy: 0.6957\n"
     ]
    }
   ],
   "source": [
    "history = vgg16.fit(x=np.array(img_train, np.float32), \n",
    "                    y=np.array(list(map(int,df_img_dataset_train['label'])), np.float32), epochs=20\n",
    "                    ,validation_data=(np.array(img_val, np.float32), df_img_dataset_val['label'].values)\n",
    "                   )"
   ]
  },
  {
   "cell_type": "code",
   "execution_count": 304,
   "id": "7c599b52",
   "metadata": {},
   "outputs": [
    {
     "data": {
      "text/plain": [
       "<matplotlib.legend.Legend at 0x1615a6be0>"
      ]
     },
     "execution_count": 304,
     "metadata": {},
     "output_type": "execute_result"
    },
    {
     "data": {
      "image/png": "[encoded data removed]",
      "text/plain": [
       "<Figure size 1080x1080 with 2 Axes>"
      ]
     },
     "metadata": {
      "needs_background": "light"
     },
     "output_type": "display_data"
    }
   ],
   "source": [
    "fig, axs = plt.subplots(2, 1, figsize=(15,15))\n",
    "\n",
    "axs[0].plot(history.history['loss'])\n",
    "axs[0].plot(history.history['val_loss'])\n",
    "axs[0].title.set_text('Training Loss vs Validation Loss')\n",
    "axs[0].legend(['Train', 'Val'])\n",
    "\n",
    "axs[1].plot(history.history['accuracy'])\n",
    "axs[1].plot(history.history['val_accuracy'])\n",
    "axs[1].title.set_text('Training Accuracy vs Validation Accuracy')\n",
    "axs[1].legend(['Train', 'Val'])"
   ]
  },
  {
   "cell_type": "code",
   "execution_count": null,
   "id": "3a6796d3",
   "metadata": {},
   "outputs": [],
   "source": [
    "score = vgg16.evaluate(np.array(img_test, np.float32), df_img_dataset_test['label'].values)\n",
    "print('Test loss:', score[0])\n",
    "print('Test accuracy:', score[1])"
   ]
  },
  {
   "cell_type": "code",
   "execution_count": null,
   "id": "8c7619cf",
   "metadata": {},
   "outputs": [],
   "source": [
    "import itertools\n",
    "def plot_confusion_matrix(cm, classes,\n",
    "                          normalize=False,\n",
    "                          title='Confusion matrix',\n",
    "                          cmap=plt.cm.Blues):\n",
    "    \"\"\"\n",
    "    This function prints and plots the confusion matrix.\n",
    "    Normalization can be applied by setting `normalize=True`.\n",
    "    \"\"\"\n",
    "    if normalize:\n",
    "        cm = cm.astype('float') / cm.sum(axis=1)[:, np.newaxis]\n",
    "        print(\"Normalized confusion matrix\")\n",
    "    else:\n",
    "        print('Confusion matrix, without normalization')\n",
    "\n",
    "    print(cm)\n",
    "\n",
    "    plt.imshow(cm, interpolation='nearest', cmap=cmap)\n",
    "    plt.title(title)\n",
    "    plt.colorbar()\n",
    "    tick_marks = np.arange(len(classes))\n",
    "    plt.xticks(tick_marks, classes, rotation=45)\n",
    "    plt.yticks(tick_marks, classes)\n",
    "\n",
    "    fmt = '.2f' if normalize else 'd'\n",
    "    thresh = cm.max() / 2.\n",
    "    for i, j in itertools.product(range(cm.shape[0]), range(cm.shape[1])):\n",
    "        plt.text(j, i, format(cm[i, j], fmt),\n",
    "                 horizontalalignment=\"center\",\n",
    "                 color=\"white\" if cm[i, j] > thresh else \"black\")\n",
    "\n",
    "    plt.tight_layout()\n",
    "    plt.ylabel('True label')\n",
    "    plt.xlabel('Predicted label')"
   ]
  },
  {
   "cell_type": "code",
   "execution_count": null,
   "id": "7a03dbad",
   "metadata": {},
   "outputs": [],
   "source": [
    "th_km = 0.05\n",
    "y_pred = 2*(score[\"st_score\"] > th_km)-1\n",
    "cnf_matrix = confusion_matrix(layers_test[\"score\"].astype(int), y_pred)\n",
    "# Plot non-normalized confusion matrix\n",
    "plt.figure()\n",
    "plot_confusion_matrix(cnf_matrix, classes=[\"normaly\",\"anomaly\"], normalize=True,\n",
    "                      title='Confusion matrix Simple Test, with normalization')"
   ]
  },
  {
   "cell_type": "code",
   "execution_count": null,
   "id": "d8c6a6fa",
   "metadata": {},
   "outputs": [],
   "source": []
  }
 ],
 "metadata": {
  "kernelspec": {
   "display_name": "Python 3 (ipykernel)",
   "language": "python",
   "name": "python3"
  },
  "language_info": {
   "codemirror_mode": {
    "name": "ipython",
    "version": 3
   },
   "file_extension": ".py",
   "mimetype": "text/x-python",
   "name": "python",
   "nbconvert_exporter": "python",
   "pygments_lexer": "ipython3",
   "version": "3.8.9"
  }
 },
 "nbformat": 4,
 "nbformat_minor": 5
}
