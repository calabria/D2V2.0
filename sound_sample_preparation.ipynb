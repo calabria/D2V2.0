{
 "cells": [
  {
   "cell_type": "code",
   "execution_count": 8,
   "id": "276de7fe",
   "metadata": {},
   "outputs": [],
   "source": [
    "import math\n",
    "import numpy as np\n",
    "import pandas as pd\n",
    "import tensorflow as tf\n",
    "\n",
    "import matplotlib\n",
    "import matplotlib.pyplot as plt\n",
    "import matplotlib.dates as mdates\n",
    "from mpl_toolkits.axes_grid1 import make_axes_locatable\n",
    "\n",
    "from scipy import ndimage, misc\n",
    "import datetime\n",
    "from datetime import timedelta\n",
    "\n",
    "import keras\n",
    "from keras import backend as K\n",
    "from keras.callbacks import EarlyStopping, ModelCheckpoint\n",
    "from keras.models import Sequential, load_model\n",
    "from keras.layers import Dense, Flatten, Reshape, Conv1D, MaxPooling1D, AveragePooling1D,\\\n",
    "UpSampling1D, InputLayer\n",
    "\n",
    "from scipy import ndimage, misc\n",
    "\n",
    "from sklearn import svm\n",
    "from sklearn.ensemble import IsolationForest\n",
    "from sklearn.metrics import accuracy_score, confusion_matrix, roc_curve, auc\n",
    "from sklearn.model_selection import cross_val_score, train_test_split, StratifiedKFold, GridSearchCV\n",
    "from sklearn.preprocessing import MaxAbsScaler\n",
    "import joblib\n",
    "from sklearn.neighbors import LocalOutlierFactor\n",
    "from sklearn import cluster, datasets"
   ]
  },
  {
   "cell_type": "code",
   "execution_count": 14,
   "id": "b8f33082",
   "metadata": {},
   "outputs": [
    {
     "name": "stdout",
     "output_type": "stream",
     "text": [
      "/Users/I559573/Downloads/SoundSamples/fan/train/\n",
      "/Users/I559573/Downloads/SoundSamples/pump/train/\n",
      "/Users/I559573/Downloads/SoundSamples/valve/train/\n",
      "/Users/I559573/Downloads/SoundSamples/gearbox/train/\n"
     ]
    }
   ],
   "source": [
    "root_path = \"/Users/I559573/Downloads/SoundSamples\"\n",
    "path_fan = root_path + \"/fan/train/\"\n",
    "path_pump = root_path + \"/pump/train/\"\n",
    "path_valve = root_path + \"/valve/train/\"\n",
    "path_gearbox = root_path + \"/gearbox/train/\"\n",
    "print(path_fan)\n",
    "print(path_pump)\n",
    "print(path_valve)\n",
    "print(path_gearbox)"
   ]
  },
  {
   "cell_type": "code",
   "execution_count": 13,
   "id": "e8cfc487",
   "metadata": {},
   "outputs": [],
   "source": [
    "fan_data = pd.DataFrame()\n",
    "pump_data = pd.DataFrame()\n",
    "gearbox_data = pd.DataFrame()\n",
    "valve_data = pd.DataFrame()"
   ]
  },
  {
   "cell_type": "code",
   "execution_count": 259,
   "id": "70861924",
   "metadata": {},
   "outputs": [],
   "source": [
    "fan_data = pd.read_csv(root_path + '/fan.csv', sep=\"_\", header=None, nrows=100000, \n",
    "                       names=[\"a\", \"sec\", \"c\", \"source\", \"status\", \"id\", \"g\", \"wind_strength\", \"i\", \"l\", \"m\", \"n\"])\n",
    "\n",
    "pump_data = pd.read_csv(root_path + '/pump.csv', sep=\"_\", header=None, nrows=100000, \n",
    "                        names=[\"a\", \"sec\", \"c\", \"source\", \"status\", \"id\", \"g\", \"h\", \"serial_no\", \"l\", \"m\", \"n\"])\n",
    "\n",
    "valve_data = pd.read_csv(root_path + '/valve.csv', sep=\"_\", header=None, nrows=100000, \n",
    "                         names=[\"a\", \"sec\", \"c\", \"source\", \"status\", \"id\", \"g\", \"pattern\", \"i\", \"l\", \"m\", \"n\"])\n",
    "\n",
    "gearbox_data = pd.read_csv(root_path + '/gearbox_2.csv', sep=\"_\", header=None, nrows=100000,\n",
    "                       names=[\"a\", \"sec\", \"c\", \"source\", \"status\", \"id\", \"weight\", \"u_weight\", \"lenght\", \"u_lenght\", \"voltage\", \"u_voltage\", \"o\"])"
   ]
  },
  {
   "cell_type": "code",
   "execution_count": 260,
   "id": "b418a017",
   "metadata": {},
   "outputs": [],
   "source": [
    "fan_data = fan_data.replace(np.nan, \"N/A\")\n",
    "pump_data = pump_data.replace(np.nan, \"N/A\")\n",
    "gearbox_data = gearbox_data.replace(np.nan, \"N/A\")\n",
    "valve_data = valve_data.replace(np.nan, \"N/A\")\n",
    "\n",
    "fan_data[[\"i\", \"l\", \"m\", \"n\"]] = fan_data[[\"i\", \"l\", \"m\", \"n\"]].astype(str)\n",
    "pump_data[[\"l\", \"m\", \"n\"]] = pump_data[[\"l\", \"m\", \"n\"]].astype(str)\n",
    "valve_data[[\"i\", \"l\", \"m\", \"n\"]] = valve_data[[\"i\", \"l\", \"m\", \"n\"]].astype(str)"
   ]
  },
  {
   "cell_type": "code",
   "execution_count": 269,
   "id": "51fdb632",
   "metadata": {},
   "outputs": [
    {
     "data": {
      "text/html": [
       "<div>\n",
       "<style scoped>\n",
       "    .dataframe tbody tr th:only-of-type {\n",
       "        vertical-align: middle;\n",
       "    }\n",
       "\n",
       "    .dataframe tbody tr th {\n",
       "        vertical-align: top;\n",
       "    }\n",
       "\n",
       "    .dataframe thead th {\n",
       "        text-align: right;\n",
       "    }\n",
       "</style>\n",
       "<table border=\"1\" class=\"dataframe\">\n",
       "  <thead>\n",
       "    <tr style=\"text-align: right;\">\n",
       "      <th></th>\n",
       "      <th>sec</th>\n",
       "      <th>source</th>\n",
       "      <th>status</th>\n",
       "      <th>id</th>\n",
       "      <th>wind_strength</th>\n",
       "      <th>attributes</th>\n",
       "    </tr>\n",
       "  </thead>\n",
       "  <tbody>\n",
       "    <tr>\n",
       "      <th>0</th>\n",
       "      <td>0</td>\n",
       "      <td>fan</td>\n",
       "      <td>normal</td>\n",
       "      <td>0</td>\n",
       "      <td>1</td>\n",
       "      <td>ambient</td>\n",
       "    </tr>\n",
       "    <tr>\n",
       "      <th>1</th>\n",
       "      <td>0</td>\n",
       "      <td>fan</td>\n",
       "      <td>normal</td>\n",
       "      <td>1</td>\n",
       "      <td>1</td>\n",
       "      <td>ambient</td>\n",
       "    </tr>\n",
       "    <tr>\n",
       "      <th>2</th>\n",
       "      <td>0</td>\n",
       "      <td>fan</td>\n",
       "      <td>normal</td>\n",
       "      <td>2</td>\n",
       "      <td>1</td>\n",
       "      <td>ambient</td>\n",
       "    </tr>\n",
       "    <tr>\n",
       "      <th>3</th>\n",
       "      <td>0</td>\n",
       "      <td>fan</td>\n",
       "      <td>normal</td>\n",
       "      <td>3</td>\n",
       "      <td>1</td>\n",
       "      <td>ambient</td>\n",
       "    </tr>\n",
       "    <tr>\n",
       "      <th>4</th>\n",
       "      <td>0</td>\n",
       "      <td>fan</td>\n",
       "      <td>normal</td>\n",
       "      <td>4</td>\n",
       "      <td>1</td>\n",
       "      <td>ambient</td>\n",
       "    </tr>\n",
       "  </tbody>\n",
       "</table>\n",
       "</div>"
      ],
      "text/plain": [
       "   sec source  status  id  wind_strength attributes\n",
       "0    0    fan  normal   0              1    ambient\n",
       "1    0    fan  normal   1              1    ambient\n",
       "2    0    fan  normal   2              1    ambient\n",
       "3    0    fan  normal   3              1    ambient\n",
       "4    0    fan  normal   4              1    ambient"
      ]
     },
     "execution_count": 269,
     "metadata": {},
     "output_type": "execute_result"
    }
   ],
   "source": [
    "fan_data.head()"
   ]
  },
  {
   "cell_type": "code",
   "execution_count": 270,
   "id": "ae383b0e",
   "metadata": {},
   "outputs": [
    {
     "data": {
      "text/html": [
       "<div>\n",
       "<style scoped>\n",
       "    .dataframe tbody tr th:only-of-type {\n",
       "        vertical-align: middle;\n",
       "    }\n",
       "\n",
       "    .dataframe tbody tr th {\n",
       "        vertical-align: top;\n",
       "    }\n",
       "\n",
       "    .dataframe thead th {\n",
       "        text-align: right;\n",
       "    }\n",
       "</style>\n",
       "<table border=\"1\" class=\"dataframe\">\n",
       "  <thead>\n",
       "    <tr style=\"text-align: right;\">\n",
       "      <th></th>\n",
       "      <th>sec</th>\n",
       "      <th>source</th>\n",
       "      <th>status</th>\n",
       "      <th>id</th>\n",
       "      <th>h</th>\n",
       "      <th>serial_no</th>\n",
       "      <th>attributes</th>\n",
       "    </tr>\n",
       "  </thead>\n",
       "  <tbody>\n",
       "    <tr>\n",
       "      <th>0</th>\n",
       "      <td>0</td>\n",
       "      <td>pump</td>\n",
       "      <td>normal</td>\n",
       "      <td>0</td>\n",
       "      <td>no</td>\n",
       "      <td>000</td>\n",
       "      <td>water</td>\n",
       "    </tr>\n",
       "    <tr>\n",
       "      <th>1</th>\n",
       "      <td>0</td>\n",
       "      <td>pump</td>\n",
       "      <td>normal</td>\n",
       "      <td>1</td>\n",
       "      <td>no</td>\n",
       "      <td>000</td>\n",
       "      <td>water</td>\n",
       "    </tr>\n",
       "    <tr>\n",
       "      <th>2</th>\n",
       "      <td>0</td>\n",
       "      <td>pump</td>\n",
       "      <td>normal</td>\n",
       "      <td>2</td>\n",
       "      <td>no</td>\n",
       "      <td>000</td>\n",
       "      <td>water</td>\n",
       "    </tr>\n",
       "    <tr>\n",
       "      <th>3</th>\n",
       "      <td>0</td>\n",
       "      <td>pump</td>\n",
       "      <td>normal</td>\n",
       "      <td>3</td>\n",
       "      <td>no</td>\n",
       "      <td>000</td>\n",
       "      <td>water</td>\n",
       "    </tr>\n",
       "    <tr>\n",
       "      <th>4</th>\n",
       "      <td>0</td>\n",
       "      <td>pump</td>\n",
       "      <td>normal</td>\n",
       "      <td>4</td>\n",
       "      <td>no</td>\n",
       "      <td>000</td>\n",
       "      <td>water</td>\n",
       "    </tr>\n",
       "  </tbody>\n",
       "</table>\n",
       "</div>"
      ],
      "text/plain": [
       "   sec source  status  id   h serial_no attributes\n",
       "0    0   pump  normal   0  no       000      water\n",
       "1    0   pump  normal   1  no       000      water\n",
       "2    0   pump  normal   2  no       000      water\n",
       "3    0   pump  normal   3  no       000      water\n",
       "4    0   pump  normal   4  no       000      water"
      ]
     },
     "execution_count": 270,
     "metadata": {},
     "output_type": "execute_result"
    }
   ],
   "source": [
    "pump_data.head()"
   ]
  },
  {
   "cell_type": "code",
   "execution_count": 271,
   "id": "6d5e5617",
   "metadata": {},
   "outputs": [
    {
     "data": {
      "text/html": [
       "<div>\n",
       "<style scoped>\n",
       "    .dataframe tbody tr th:only-of-type {\n",
       "        vertical-align: middle;\n",
       "    }\n",
       "\n",
       "    .dataframe tbody tr th {\n",
       "        vertical-align: top;\n",
       "    }\n",
       "\n",
       "    .dataframe thead th {\n",
       "        text-align: right;\n",
       "    }\n",
       "</style>\n",
       "<table border=\"1\" class=\"dataframe\">\n",
       "  <thead>\n",
       "    <tr style=\"text-align: right;\">\n",
       "      <th></th>\n",
       "      <th>sec</th>\n",
       "      <th>source</th>\n",
       "      <th>status</th>\n",
       "      <th>id</th>\n",
       "      <th>pattern</th>\n",
       "      <th>attributes</th>\n",
       "    </tr>\n",
       "  </thead>\n",
       "  <tbody>\n",
       "    <tr>\n",
       "      <th>0</th>\n",
       "      <td>0</td>\n",
       "      <td>valve</td>\n",
       "      <td>normal</td>\n",
       "      <td>0</td>\n",
       "      <td>0</td>\n",
       "      <td>no pump</td>\n",
       "    </tr>\n",
       "    <tr>\n",
       "      <th>1</th>\n",
       "      <td>0</td>\n",
       "      <td>valve</td>\n",
       "      <td>normal</td>\n",
       "      <td>1</td>\n",
       "      <td>0</td>\n",
       "      <td>no pump</td>\n",
       "    </tr>\n",
       "    <tr>\n",
       "      <th>2</th>\n",
       "      <td>0</td>\n",
       "      <td>valve</td>\n",
       "      <td>normal</td>\n",
       "      <td>2</td>\n",
       "      <td>1</td>\n",
       "      <td>air pump</td>\n",
       "    </tr>\n",
       "    <tr>\n",
       "      <th>3</th>\n",
       "      <td>0</td>\n",
       "      <td>valve</td>\n",
       "      <td>normal</td>\n",
       "      <td>3</td>\n",
       "      <td>1</td>\n",
       "      <td>air pump</td>\n",
       "    </tr>\n",
       "    <tr>\n",
       "      <th>4</th>\n",
       "      <td>0</td>\n",
       "      <td>valve</td>\n",
       "      <td>normal</td>\n",
       "      <td>4</td>\n",
       "      <td>0</td>\n",
       "      <td>air pump</td>\n",
       "    </tr>\n",
       "  </tbody>\n",
       "</table>\n",
       "</div>"
      ],
      "text/plain": [
       "   sec source  status  id  pattern attributes\n",
       "0    0  valve  normal   0        0    no pump\n",
       "1    0  valve  normal   1        0    no pump\n",
       "2    0  valve  normal   2        1   air pump\n",
       "3    0  valve  normal   3        1   air pump\n",
       "4    0  valve  normal   4        0   air pump"
      ]
     },
     "execution_count": 271,
     "metadata": {},
     "output_type": "execute_result"
    }
   ],
   "source": [
    "valve_data.head()"
   ]
  },
  {
   "cell_type": "code",
   "execution_count": 272,
   "id": "bbae6b7c",
   "metadata": {},
   "outputs": [
    {
     "data": {
      "text/html": [
       "<div>\n",
       "<style scoped>\n",
       "    .dataframe tbody tr th:only-of-type {\n",
       "        vertical-align: middle;\n",
       "    }\n",
       "\n",
       "    .dataframe tbody tr th {\n",
       "        vertical-align: top;\n",
       "    }\n",
       "\n",
       "    .dataframe thead th {\n",
       "        text-align: right;\n",
       "    }\n",
       "</style>\n",
       "<table border=\"1\" class=\"dataframe\">\n",
       "  <thead>\n",
       "    <tr style=\"text-align: right;\">\n",
       "      <th></th>\n",
       "      <th>sec</th>\n",
       "      <th>source</th>\n",
       "      <th>status</th>\n",
       "      <th>id</th>\n",
       "      <th>weight</th>\n",
       "      <th>u_weight</th>\n",
       "      <th>lenght</th>\n",
       "      <th>u_lenght</th>\n",
       "      <th>voltage</th>\n",
       "      <th>u_voltage</th>\n",
       "      <th>attributes</th>\n",
       "    </tr>\n",
       "  </thead>\n",
       "  <tbody>\n",
       "    <tr>\n",
       "      <th>0</th>\n",
       "      <td>0</td>\n",
       "      <td>gearbox</td>\n",
       "      <td>normal</td>\n",
       "      <td>0000</td>\n",
       "      <td>0.0</td>\n",
       "      <td>g</td>\n",
       "      <td>25.0</td>\n",
       "      <td>mm</td>\n",
       "      <td>2000.0</td>\n",
       "      <td>mV</td>\n",
       "      <td>none</td>\n",
       "    </tr>\n",
       "    <tr>\n",
       "      <th>1</th>\n",
       "      <td>0</td>\n",
       "      <td>gearbox</td>\n",
       "      <td>normal</td>\n",
       "      <td>0001</td>\n",
       "      <td>0.0</td>\n",
       "      <td>g</td>\n",
       "      <td>25.0</td>\n",
       "      <td>mm</td>\n",
       "      <td>2000.0</td>\n",
       "      <td>mV</td>\n",
       "      <td>none</td>\n",
       "    </tr>\n",
       "    <tr>\n",
       "      <th>2</th>\n",
       "      <td>0</td>\n",
       "      <td>gearbox</td>\n",
       "      <td>normal</td>\n",
       "      <td>0002</td>\n",
       "      <td>0.0</td>\n",
       "      <td>g</td>\n",
       "      <td>25.0</td>\n",
       "      <td>mm</td>\n",
       "      <td>1000.0</td>\n",
       "      <td>mV</td>\n",
       "      <td>none</td>\n",
       "    </tr>\n",
       "    <tr>\n",
       "      <th>3</th>\n",
       "      <td>0</td>\n",
       "      <td>gearbox</td>\n",
       "      <td>normal</td>\n",
       "      <td>0003</td>\n",
       "      <td>100.0</td>\n",
       "      <td>g</td>\n",
       "      <td>25.0</td>\n",
       "      <td>mm</td>\n",
       "      <td>2000.0</td>\n",
       "      <td>mV</td>\n",
       "      <td>none</td>\n",
       "    </tr>\n",
       "    <tr>\n",
       "      <th>4</th>\n",
       "      <td>0</td>\n",
       "      <td>gearbox</td>\n",
       "      <td>normal</td>\n",
       "      <td>0004</td>\n",
       "      <td>250.0</td>\n",
       "      <td>g</td>\n",
       "      <td>25.0</td>\n",
       "      <td>mm</td>\n",
       "      <td>2000.0</td>\n",
       "      <td>mV</td>\n",
       "      <td>none</td>\n",
       "    </tr>\n",
       "  </tbody>\n",
       "</table>\n",
       "</div>"
      ],
      "text/plain": [
       "   sec   source  status    id weight u_weight lenght u_lenght voltage  \\\n",
       "0    0  gearbox  normal  0000    0.0        g   25.0       mm  2000.0   \n",
       "1    0  gearbox  normal  0001    0.0        g   25.0       mm  2000.0   \n",
       "2    0  gearbox  normal  0002    0.0        g   25.0       mm  1000.0   \n",
       "3    0  gearbox  normal  0003  100.0        g   25.0       mm  2000.0   \n",
       "4    0  gearbox  normal  0004  250.0        g   25.0       mm  2000.0   \n",
       "\n",
       "  u_voltage attributes  \n",
       "0        mV       none  \n",
       "1        mV       none  \n",
       "2        mV       none  \n",
       "3        mV       none  \n",
       "4        mV       none  "
      ]
     },
     "execution_count": 272,
     "metadata": {},
     "output_type": "execute_result"
    }
   ],
   "source": [
    "gearbox_data.head()"
   ]
  },
  {
   "cell_type": "code",
   "execution_count": 261,
   "id": "f17f02eb",
   "metadata": {},
   "outputs": [],
   "source": [
    "fan_data = fan_data.assign(source='fan')\n",
    "fan_data['attributes'] = fan_data[[\"i\", \"l\", \"m\", \"n\"]].agg('_'.join, axis=1)\n",
    "\n",
    "pump_data = pump_data.assign(source='pump')\n",
    "pump_data['attributes'] = pump_data[[\"l\", \"m\", \"n\"]].agg('_'.join, axis=1)\n",
    "\n",
    "valve_data = valve_data.assign(source='valve')\n",
    "valve_data['attributes'] = valve_data[[\"i\", \"l\", \"m\", \"n\"]].agg('_'.join, axis=1)\n",
    "\n",
    "gearbox_data = gearbox_data.assign(source='gearbox')\n",
    "gearbox_data['attributes'] = gearbox_data[\"o\"]"
   ]
  },
  {
   "cell_type": "code",
   "execution_count": 262,
   "id": "9d9876ee",
   "metadata": {},
   "outputs": [],
   "source": [
    "fan_data['attributes'] = fan_data['attributes'].replace({'_N/A':''},regex=True)\n",
    "fan_data = fan_data.replace({'.wav':''},regex=True)\n",
    "fan_data = fan_data.replace({'N/A':''},regex=True)\n",
    "fan_data = fan_data.replace({'_':' '},regex=True)\n",
    "\n",
    "pump_data['attributes'] = pump_data['attributes'].replace({'_N/A':''},regex=True)\n",
    "pump_data = pump_data.replace({'.wav':''},regex=True)\n",
    "pump_data = pump_data.replace({'N/A':''},regex=True)\n",
    "pump_data = pump_data.replace({'_':' '},regex=True)\n",
    "\n",
    "valve_data['attributes'] = valve_data['attributes'].replace({'_N/A':''},regex=True)\n",
    "valve_data = valve_data.replace({'.wav':''},regex=True)\n",
    "valve_data = valve_data.replace({'N/A':''},regex=True)\n",
    "valve_data = valve_data.replace({'_':' '},regex=True)\n",
    "\n",
    "gearbox_data['attributes'] = gearbox_data['attributes'].replace({'_N/A':''},regex=True)\n",
    "gearbox_data = gearbox_data.replace({'.wav':''},regex=True)\n",
    "gearbox_data = gearbox_data.replace({'N/A':''},regex=True)\n",
    "gearbox_data = gearbox_data.replace({'_':' '},regex=True)"
   ]
  },
  {
   "cell_type": "code",
   "execution_count": 273,
   "id": "4796451f",
   "metadata": {},
   "outputs": [
    {
     "data": {
      "text/plain": [
       "array(['ambient', 'big ambient', 'small ambient', 'Fact D ambient'],\n",
       "      dtype=object)"
      ]
     },
     "execution_count": 273,
     "metadata": {},
     "output_type": "execute_result"
    }
   ],
   "source": [
    "fan_data['attributes'].unique()"
   ]
  },
  {
   "cell_type": "code",
   "execution_count": 274,
   "id": "c3e326a6",
   "metadata": {},
   "outputs": [
    {
     "data": {
      "text/plain": [
       "array(['water', 'viscous liquid', '', '021'], dtype=object)"
      ]
     },
     "execution_count": 274,
     "metadata": {},
     "output_type": "execute_result"
    }
   ],
   "source": [
    "pump_data['attributes'].unique()"
   ]
  },
  {
   "cell_type": "code",
   "execution_count": 275,
   "id": "4766a28e",
   "metadata": {},
   "outputs": [
    {
     "data": {
      "text/plain": [
       "array(['000', '010', '021', '020'], dtype=object)"
      ]
     },
     "execution_count": 275,
     "metadata": {},
     "output_type": "execute_result"
    }
   ],
   "source": [
    "pump_data['serial_no'].unique()"
   ]
  },
  {
   "cell_type": "code",
   "execution_count": 276,
   "id": "0abe644d",
   "metadata": {},
   "outputs": [
    {
     "data": {
      "text/plain": [
       "array(['no pump', 'air pump', 'air pump comb'], dtype=object)"
      ]
     },
     "execution_count": 276,
     "metadata": {},
     "output_type": "execute_result"
    }
   ],
   "source": [
    "valve_data['attributes'].unique()"
   ]
  },
  {
   "cell_type": "code",
   "execution_count": 277,
   "id": "ca450ce2",
   "metadata": {},
   "outputs": [
    {
     "data": {
      "text/plain": [
       "array(['none', 'None', ''], dtype=object)"
      ]
     },
     "execution_count": 277,
     "metadata": {},
     "output_type": "execute_result"
    }
   ],
   "source": [
    "gearbox_data['attributes'].unique()"
   ]
  },
  {
   "cell_type": "code",
   "execution_count": 268,
   "id": "30a37882",
   "metadata": {},
   "outputs": [],
   "source": [
    "fan_data = fan_data.drop([\"a\", \"c\", \"g\", \"i\", \"l\", \"m\", \"n\"], axis=1)\n",
    "pump_data = pump_data.drop([\"a\", \"c\", \"g\", \"l\", \"m\", \"n\"], axis=1)\n",
    "valve_data = valve_data.drop([\"a\", \"c\", \"g\", \"i\", \"l\", \"m\", \"n\"], axis=1)\n",
    "gearbox_data = gearbox_data.drop([\"a\", \"c\", \"o\"], axis=1)"
   ]
  },
  {
   "cell_type": "code",
   "execution_count": null,
   "id": "1c4eedcf",
   "metadata": {},
   "outputs": [],
   "source": []
  },
  {
   "cell_type": "code",
   "execution_count": null,
   "id": "41bfa533",
   "metadata": {},
   "outputs": [],
   "source": []
  },
  {
   "cell_type": "code",
   "execution_count": null,
   "id": "ad162090",
   "metadata": {},
   "outputs": [],
   "source": []
  },
  {
   "cell_type": "code",
   "execution_count": null,
   "id": "bd663a10",
   "metadata": {},
   "outputs": [],
   "source": []
  }
 ],
 "metadata": {
  "kernelspec": {
   "display_name": "Python 3 (ipykernel)",
   "language": "python",
   "name": "python3"
  },
  "language_info": {
   "codemirror_mode": {
    "name": "ipython",
    "version": 3
   },
   "file_extension": ".py",
   "mimetype": "text/x-python",
   "name": "python",
   "nbconvert_exporter": "python",
   "pygments_lexer": "ipython3",
   "version": "3.8.9"
  }
 },
 "nbformat": 4,
 "nbformat_minor": 5
}
